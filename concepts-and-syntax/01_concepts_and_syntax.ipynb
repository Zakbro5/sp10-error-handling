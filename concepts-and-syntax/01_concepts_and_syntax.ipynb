{
 "cells": [
  {
   "cell_type": "markdown",
   "id": "93db390e",
   "metadata": {},
   "source": [
    "\n",
    "# Syntax & Concepts: Error Handling\n",
    "\n",
    "### Before Class:\n",
    "\n",
    "1. **Read this notebook and attempt each \"You Try\" section.**\n",
    "    - Need help? Check the AI tips or your textbook.\n",
    "\n",
    "2. **Complete at least one practice problem from this chapter.**\n",
    "    - Problems are ordered from easiest to hardest.\n",
    "    - Stuck? Copy and paste the instructions and AI prompt into your preferred AI service for guided help.\n",
    "\n",
    "3. **Submit your attempted practice problem code in the \"Class Prep Report\" on Learning Suite for credit.**\n",
    "\n",
    "#### Need more explanation? Copy and paste this AI prompt along with any code you have questions about:\n",
    "(Double-click the text below, then copy and paste it into your AI service.)\n",
    "\n",
    "```\n",
    "I am new to Python and just starting to learn coding. I need simple, clear explanations. When I ask a question or show my code, act like my personal tutor: correct mistakes gently, clarify misconceptions, and use easy-to-follow language. Feel free to use examples or metaphors to help me understand. Let me know when I'm doing well or what I need to adjust.\n",
    "```\n"
   ]
  },
  {
   "cell_type": "markdown",
   "id": "1ac0949b",
   "metadata": {},
   "source": [
    "\n",
    "### Chapter Summary\n",
    "\n",
    "In this chapter, you'll learn how to handle errors using `try` and `except` blocks. Python normally stops your program when it encounters an error, but with error handling, you can respond to problems gracefully instead of crashing.\n",
    "\n",
    "You'll also learn the difference between defensive programming (trying to prevent errors before they happen) and exception handling (responding to errors after they happen).\n"
   ]
  },
  {
   "cell_type": "markdown",
   "id": "6779f602",
   "metadata": {},
   "source": [
    "\n",
    "## 1: What Happens Without Error Handling\n",
    "\n",
    "When an error occurs and there’s no handling in place, your program crashes.\n"
   ]
  },
  {
   "cell_type": "code",
   "execution_count": 1,
   "id": "fc353e1d",
   "metadata": {},
   "outputs": [
    {
     "ename": "ValueError",
     "evalue": "invalid literal for int() with base 10: ''",
     "output_type": "error",
     "traceback": [
      "\u001b[31m---------------------------------------------------------------------------\u001b[39m",
      "\u001b[31mValueError\u001b[39m                                Traceback (most recent call last)",
      "\u001b[36mCell\u001b[39m\u001b[36m \u001b[39m\u001b[32mIn[1]\u001b[39m\u001b[32m, line 2\u001b[39m\n\u001b[32m      1\u001b[39m \u001b[38;5;66;03m# This crashes if the user enters 0\u001b[39;00m\n\u001b[32m----> \u001b[39m\u001b[32m2\u001b[39m num = \u001b[38;5;28;43mint\u001b[39;49m\u001b[43m(\u001b[49m\u001b[38;5;28;43minput\u001b[39;49m\u001b[43m(\u001b[49m\u001b[33;43m\"\u001b[39;49m\u001b[33;43mEnter a number: \u001b[39;49m\u001b[33;43m\"\u001b[39;49m\u001b[43m)\u001b[49m\u001b[43m)\u001b[49m\n\u001b[32m      3\u001b[39m result = \u001b[32m10\u001b[39m / num\n\u001b[32m      4\u001b[39m \u001b[38;5;28mprint\u001b[39m(\u001b[33m\"\u001b[39m\u001b[33mResult:\u001b[39m\u001b[33m\"\u001b[39m, result)\n",
      "\u001b[31mValueError\u001b[39m: invalid literal for int() with base 10: ''"
     ]
    }
   ],
   "source": [
    "# This crashes if the user enters 0\n",
    "num = int(input(\"Enter a number: \"))\n",
    "result = 10 / num\n",
    "print(\"Result:\", result)"
   ]
  },
  {
   "cell_type": "markdown",
   "id": "91650886",
   "metadata": {},
   "source": [
    "\n",
    "### 1.p: You Try\n",
    "\n",
    "What happens if the user enters something that’s not a number? Try it:\n",
    "```python\n",
    "value = int(input(\"Enter a whole number: \"))\n",
    "print(\"You entered:\", value)\n",
    "```\n"
   ]
  },
  {
   "cell_type": "code",
   "execution_count": 4,
   "id": "dbc8be5a",
   "metadata": {},
   "outputs": [
    {
     "ename": "ValueError",
     "evalue": "invalid literal for int() with base 10: ''",
     "output_type": "error",
     "traceback": [
      "\u001b[31m---------------------------------------------------------------------------\u001b[39m",
      "\u001b[31mValueError\u001b[39m                                Traceback (most recent call last)",
      "\u001b[36mCell\u001b[39m\u001b[36m \u001b[39m\u001b[32mIn[4]\u001b[39m\u001b[32m, line 2\u001b[39m\n\u001b[32m      1\u001b[39m \u001b[38;5;66;03m# Your code here\u001b[39;00m\n\u001b[32m----> \u001b[39m\u001b[32m2\u001b[39m value = \u001b[38;5;28;43mint\u001b[39;49m\u001b[43m(\u001b[49m\u001b[38;5;28;43minput\u001b[39;49m\u001b[43m(\u001b[49m\u001b[33;43m\"\u001b[39;49m\u001b[33;43mEnter a whole number: \u001b[39;49m\u001b[33;43m\"\u001b[39;49m\u001b[43m)\u001b[49m\u001b[43m)\u001b[49m\n\u001b[32m      3\u001b[39m \u001b[38;5;28mprint\u001b[39m(\u001b[33m\"\u001b[39m\u001b[33mYou entered:\u001b[39m\u001b[33m\"\u001b[39m, value)\n",
      "\u001b[31mValueError\u001b[39m: invalid literal for int() with base 10: ''"
     ]
    }
   ],
   "source": [
    "# Your code here\n",
    "value = int(input(\"Enter a whole number: \"))\n",
    "print(\"You entered:\", value)\n"
   ]
  },
  {
   "cell_type": "markdown",
   "id": "b0f49a66",
   "metadata": {},
   "source": [
    "\n",
    "## 2: Using `try` and `except`\n",
    "\n",
    "`try` lets you test code. `except` lets you handle errors when they occur.\n"
   ]
  },
  {
   "cell_type": "code",
   "execution_count": 5,
   "id": "7320d212",
   "metadata": {},
   "outputs": [
    {
     "name": "stdout",
     "output_type": "stream",
     "text": [
      "Something went wrong!\n"
     ]
    }
   ],
   "source": [
    "try:\n",
    "    num = int(input(\"Enter a number: \"))\n",
    "    result = 10 / num\n",
    "    print(\"Result:\", result)\n",
    "except:\n",
    "    print(\"Something went wrong!\")"
   ]
  },
  {
   "cell_type": "markdown",
   "id": "37dc9daa",
   "metadata": {},
   "source": [
    "\n",
    "### 2.p: You Try\n",
    "\n",
    "Wrap the following in a try/except so it doesn’t crash if the user enters bad input:\n",
    "\n",
    "```python\n",
    "age = int(input(\"Enter your age: \"))\n",
    "print(\"Next year you'll be\", age + 1)\n",
    "```\n"
   ]
  },
  {
   "cell_type": "code",
   "execution_count": 6,
   "id": "adb97813",
   "metadata": {},
   "outputs": [
    {
     "name": "stdout",
     "output_type": "stream",
     "text": [
      "uh oh\n"
     ]
    }
   ],
   "source": [
    "# Your code here\n",
    "try:\n",
    "    age = int(input(\"Enter your age: \"))\n",
    "    print(\"Next year you'll be\", age + 1)\n",
    "except:\n",
    "    print(\"uh oh\")"
   ]
  },
  {
   "cell_type": "markdown",
   "id": "8354577c",
   "metadata": {},
   "source": [
    "\n",
    "## 3: Try/Except in a Loop\n",
    "\n",
    "You can keep asking the user until they give valid input.\n"
   ]
  },
  {
   "cell_type": "code",
   "execution_count": null,
   "id": "76fcac85",
   "metadata": {},
   "outputs": [],
   "source": [
    "while True:\n",
    "    try:\n",
    "        quantity = int(input(\"Enter a quantity: \"))\n",
    "        break\n",
    "    except:\n",
    "        print(\"Please enter a valid number.\")"
   ]
  },
  {
   "cell_type": "markdown",
   "id": "1014f4bb",
   "metadata": {},
   "source": [
    "\n",
    "### 3.p: You Try\n",
    "\n",
    "Write a loop that asks for a price until the user enters a valid number.\n"
   ]
  },
  {
   "cell_type": "code",
   "execution_count": 1,
   "id": "9ccc958d",
   "metadata": {},
   "outputs": [
    {
     "name": "stdout",
     "output_type": "stream",
     "text": [
      "The price is $ 4\n"
     ]
    }
   ],
   "source": [
    "# Your code here\n",
    "while True:\n",
    "    try:\n",
    "        price = int(input(\"Enter a price: \"))\n",
    "        print(\"The price is $\", price)\n",
    "        break\n",
    "    except:\n",
    "        print(\"enter a valid number\")\n"
   ]
  },
  {
   "cell_type": "markdown",
   "id": "93fccd46",
   "metadata": {},
   "source": [
    "\n",
    "## 4: Defensive vs. Exception Handling\n",
    "\n",
    "Sometimes it's better to **check for errors before they happen** (defensive programming). Other times, it's easier to just try the code and catch the error.\n"
   ]
  },
  {
   "cell_type": "code",
   "execution_count": null,
   "id": "ba228545",
   "metadata": {},
   "outputs": [],
   "source": [
    "# Defensive example\n",
    "age_input = input(\"Enter your age: \")\n",
    "if age_input.isdigit():\n",
    "    age = int(age_input)\n",
    "    print(\"Next year you'll be\", age + 1)\n",
    "else:\n",
    "    print(\"That wasn't a number.\")"
   ]
  },
  {
   "cell_type": "markdown",
   "id": "d57b78b9",
   "metadata": {},
   "source": [
    "\n",
    "### 4.p: You Try\n",
    "\n",
    "Convert this into a version that uses `try`/`except` instead of `.isdigit()`:\n",
    "```python\n",
    "price_input = input(\"Enter a price: \")\n",
    "if price_input.replace(\".\", \"\").isdigit():\n",
    "    price = float(price_input)\n",
    "    print(\"Price with tax:\", price * 1.07)\n",
    "else:\n",
    "    print(\"Invalid input\")\n",
    "```\n"
   ]
  },
  {
   "cell_type": "code",
   "execution_count": 5,
   "id": "9341d496",
   "metadata": {},
   "outputs": [
    {
     "name": "stdout",
     "output_type": "stream",
     "text": [
      "Invalid input\n"
     ]
    }
   ],
   "source": [
    "# Your code here\n",
    "price_input = input(\"Enter a price: \")\n",
    "try:\n",
    "    price = float(price_input)\n",
    "    print(\"Price with tax:\", price * 1.07)\n",
    "except:\n",
    "    print(\"Invalid input\")\n"
   ]
  },
  {
   "cell_type": "markdown",
   "id": "73324429",
   "metadata": {},
   "source": [
    "\n",
    "## Want to Learn More?\n",
    "\n",
    "If you'd like extra help or more details, you can:\n",
    "- **Ask AI**: Use the suggested questions in the `review_with_ai` file.\n",
    "- **Read your textbook**: Check the reading guide on Learning Suite beforehand.\n",
    "- **Review class practice files**: They contain more detailed examples and explanations, available on Learning Suite.\n"
   ]
  }
 ],
 "metadata": {
  "kernelspec": {
   "display_name": "Python 3",
   "language": "python",
   "name": "python3"
  },
  "language_info": {
   "codemirror_mode": {
    "name": "ipython",
    "version": 3
   },
   "file_extension": ".py",
   "mimetype": "text/x-python",
   "name": "python",
   "nbconvert_exporter": "python",
   "pygments_lexer": "ipython3",
   "version": "3.13.7"
  }
 },
 "nbformat": 4,
 "nbformat_minor": 5
}
